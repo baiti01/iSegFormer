{
 "cells": [
  {
   "cell_type": "code",
   "execution_count": 6,
   "metadata": {},
   "outputs": [],
   "source": [
    "%matplotlib inline\n",
    "import matplotlib.pyplot as plt\n",
    "\n",
    "import sys\n",
    "import torch\n",
    "import numpy as np\n",
    "\n",
    "sys.path.insert(0, './')\n",
    "\n",
    "from isegm.utils import vis, exp\n",
    "from isegm.inference import utils\n",
    "from isegm.inference.evaluation import evaluate_dataset, evaluate_sample\n",
    "from isegm.inference.predictors import get_predictor\n",
    "\n",
    "device = torch.device('cuda:0')\n",
    "cfg = exp.load_config_file('../config.yml', return_edict=True)\n",
    "\n",
    "EVAL_MAX_CLICKS = 20\n",
    "MODEL_THRESH = 0.49\n",
    "\n",
    "# Possible choices: 'NoBRS', 'f-BRS-A', 'f-BRS-B', 'f-BRS-C', 'RGB-BRS', 'DistMap-BRS'\n",
    "brs_mode = 'NoBRS'\n",
    "\n",
    "TARGET_IOU = 0.9"
   ]
  },
  {
   "cell_type": "code",
   "execution_count": 7,
   "metadata": {},
   "outputs": [
    {
     "ename": "NameError",
     "evalue": "name 'dataset' is not defined",
     "output_type": "error",
     "traceback": [
      "\u001b[0;31m---------------------------------------------------------------------------\u001b[0m",
      "\u001b[0;31mNameError\u001b[0m                                 Traceback (most recent call last)",
      "Input \u001b[0;32mIn [7]\u001b[0m, in \u001b[0;36m<module>\u001b[0;34m\u001b[0m\n\u001b[1;32m      6\u001b[0m model \u001b[38;5;241m=\u001b[39m utils\u001b[38;5;241m.\u001b[39mload_is_model(checkpoint_path, device)\n\u001b[1;32m      7\u001b[0m predictor \u001b[38;5;241m=\u001b[39m get_predictor(model, brs_mode, device, prob_thresh\u001b[38;5;241m=\u001b[39mMODEL_THRESH)\n\u001b[0;32m---> 10\u001b[0m all_ious, elapsed_time \u001b[38;5;241m=\u001b[39m evaluate_dataset(\u001b[43mdataset\u001b[49m, predictor, pred_thr\u001b[38;5;241m=\u001b[39mMODEL_THRESH, \n\u001b[1;32m     11\u001b[0m                                           max_iou_thr\u001b[38;5;241m=\u001b[39mTARGET_IOU, max_clicks\u001b[38;5;241m=\u001b[39mEVAL_MAX_CLICKS)\n\u001b[1;32m     12\u001b[0m mean_spc, mean_spi \u001b[38;5;241m=\u001b[39m utils\u001b[38;5;241m.\u001b[39mget_time_metrics(all_ious, elapsed_time)\n\u001b[1;32m     13\u001b[0m noc_list, over_max_list \u001b[38;5;241m=\u001b[39m utils\u001b[38;5;241m.\u001b[39mcompute_noc_metric(all_ious,\n\u001b[1;32m     14\u001b[0m                                                    iou_thrs\u001b[38;5;241m=\u001b[39m[\u001b[38;5;241m0.8\u001b[39m, \u001b[38;5;241m0.85\u001b[39m, \u001b[38;5;241m0.9\u001b[39m],\n\u001b[1;32m     15\u001b[0m                                                    max_clicks\u001b[38;5;241m=\u001b[39mEVAL_MAX_CLICKS)\n",
      "\u001b[0;31mNameError\u001b[0m: name 'dataset' is not defined"
     ]
    }
   ],
   "source": [
    "# test the hrnet32 model pretrained on OAI using superpixel\n",
    "model_folder = '/playpen-raid/qinliu/models/model_0218_2022/' + \\\n",
    "    'iter_mask/oai_hrnet32_pretrain/000_oai_hrnet32_pretrain/checkpoints'\n",
    "model_name = '054.pth'\n",
    "checkpoint_path = utils.find_checkpoint(model_folder, model_name)\n",
    "model = utils.load_is_model(checkpoint_path, device)\n",
    "predictor = get_predictor(model, brs_mode, device, prob_thresh=MODEL_THRESH)\n",
    "\n",
    "\n",
    "all_ious, elapsed_time = evaluate_dataset(dataset, predictor, pred_thr=MODEL_THRESH, \n",
    "                                          max_iou_thr=TARGET_IOU, max_clicks=EVAL_MAX_CLICKS)\n",
    "mean_spc, mean_spi = utils.get_time_metrics(all_ious, elapsed_time)\n",
    "noc_list, over_max_list = utils.compute_noc_metric(all_ious,\n",
    "                                                   iou_thrs=[0.8, 0.85, 0.9],\n",
    "                                                   max_clicks=EVAL_MAX_CLICKS)\n",
    "\n",
    "header, table_row = utils.get_results_table(noc_list, over_max_list, brs_mode, DATASET,\n",
    "                                            mean_spc, elapsed_time, EVAL_MAX_CLICKS)\n",
    "print(header)\n",
    "print(table_row)"
   ]
  }
 ],
 "metadata": {
  "interpreter": {
   "hash": "e89c9d8a920cc6bbfac98998034c8a15ed2e75dae1678af787f4c4e38e5be518"
  },
  "kernelspec": {
   "display_name": "Python 3.8.8 ('base')",
   "language": "python",
   "name": "python3"
  },
  "language_info": {
   "codemirror_mode": {
    "name": "ipython",
    "version": 3
   },
   "file_extension": ".py",
   "mimetype": "text/x-python",
   "name": "python",
   "nbconvert_exporter": "python",
   "pygments_lexer": "ipython3",
   "version": "3.8.8"
  },
  "orig_nbformat": 4
 },
 "nbformat": 4,
 "nbformat_minor": 2
}
